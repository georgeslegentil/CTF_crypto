{
 "cells": [
  {
   "cell_type": "markdown",
   "metadata": {},
   "source": [
    "## Basic 4 => XOR again :(\n",
    "Dans ce challenge, contrairement à celui du Basic3, rien n'est écrit en clair dans le header, il faut donc comprendre le fonctionnement du header des fichiers webp.\n",
    "D'après la documentation, un header webp est composé d'un RIFF, de la taille et de l'extension webp\n",
    "\n",
    "En ouvrant le fichier dans un editeur hexadecimal, on obtient le header suivant :\n",
    "\n",
    "25 76 30 7B 11 91 51 61 07 17 70 1E 3C 00 00 2F\n",
    "\n",
    "52 49 46 46 5C E2 00 00 57 45 42 50\n",
    "\n",
    "Ici le RIFF est sur 4 octets donc **25 76 30 7B**\n",
    "\n",
    "RIFF = 52 49 46 46\n",
    "SIZE = 5C E2 00 00\n",
    "WEBP = 57 45 42 50\n",
    "\n",
    "25 76 30 7B 11 91 51 61 07 17 70 1E 3C 00 00 2F\n",
    "\n",
    "52 49 46 46 5C E2 00 00 57 45 42 50\n",
    "\n",
    "La taille = 57956 octets, sachant qu'elle commence à partir de l'offset 8 on fait 57956 - 8 = 57948 octets = 5C\tE2 00 00 en little endian\n",
    "\n",
    "XOR chaque pair "
   ]
  },
  {
   "cell_type": "code",
   "execution_count": null,
   "metadata": {},
   "outputs": [],
   "source": [
    "key = 'w?v=MsQaPR2NjP8'\n",
    "cypher = bytearray(open(\"basic4.webp\", \"rb\").read())\n",
    "for i in range(len(cypher)):\n",
    "    cypher[i] ^= ord(key[i%len(key)])\n",
    "open(\"flag.webp\",\"wb\").write(cypher)"
   ]
  }
 ],
 "metadata": {
  "kernelspec": {
   "display_name": "Python 3 (ipykernel)",
   "language": "python",
   "name": "python3"
  },
  "language_info": {
   "codemirror_mode": {
    "name": "ipython",
    "version": 3
   },
   "file_extension": ".py",
   "mimetype": "text/x-python",
   "name": "python",
   "nbconvert_exporter": "python",
   "pygments_lexer": "ipython3",
   "version": "3.10.6"
  },
  "vscode": {
   "interpreter": {
    "hash": "b0fa6594d8f4cbf19f97940f81e996739fb7646882a419484c72d19e05852a7e"
   }
  }
 },
 "nbformat": 4,
 "nbformat_minor": 2
}
