{
 "cells": [
  {
   "cell_type": "markdown",
   "metadata": {},
   "source": [
    "## Easy Hashy\n",
    "37f62f1363b04df4370753037853fe88 ressemble à un hash md5 au vu des 32 caractères (128bits)\n",
    "\n",
    "En le passant dans crackstation on obtient un résultat très rapidement : trololo\n",
    "\n",
    "On peut tester de hash trololo avec md5 en python et vérifier le résultat"
   ]
  },
  {
   "cell_type": "code",
   "execution_count": 1,
   "metadata": {},
   "outputs": [
    {
     "name": "stdout",
     "output_type": "stream",
     "text": [
      "The corresponding hash is : \n",
      "37f62f1363b04df4370753037853fe88\n"
     ]
    }
   ],
   "source": [
    "import hashlib\n",
    "\n",
    "password = \"trololo\"\n",
    "md5 = hashlib.md5(password.encode())\n",
    "\n",
    "print(\"The corresponding hash is : \")\n",
    "print(md5.hexdigest());"
   ]
  },
  {
   "cell_type": "code",
   "execution_count": null,
   "metadata": {},
   "outputs": [],
   "source": []
  }
 ],
 "metadata": {
  "kernelspec": {
   "display_name": "Python 3 (ipykernel)",
   "language": "python",
   "name": "python3"
  },
  "language_info": {
   "codemirror_mode": {
    "name": "ipython",
    "version": 3
   },
   "file_extension": ".py",
   "mimetype": "text/x-python",
   "name": "python",
   "nbconvert_exporter": "python",
   "pygments_lexer": "ipython3",
   "version": "3.10.6"
  },
  "vscode": {
   "interpreter": {
    "hash": "b0fa6594d8f4cbf19f97940f81e996739fb7646882a419484c72d19e05852a7e"
   }
  }
 },
 "nbformat": 4,
 "nbformat_minor": 2
}
