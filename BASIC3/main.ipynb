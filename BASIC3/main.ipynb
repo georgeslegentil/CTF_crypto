{
 "cells": [
  {
   "cell_type": "markdown",
   "metadata": {},
   "source": [
    "## First Step:\n",
    "En appliquant la commande\n",
    "```console\n",
    "sh-3.2$  string ch2.bmp\n",
    "gudgit\n",
    "tgudgitgudgitgudgitgudgitgudgitgudgitgudgitgudgivgudgitgudgitgud\n",
    "```\n",
    "la strings gitgud revient en boucle. XOR utiliser une clé qu'il répète pour chiffrer. On applique cette clé dans un petit script python et on l'applique pour obtenir un fichier de sortie. On peut lire sur ce dernier 'Bravo les loulous'."
   ]
  },
  {
   "cell_type": "code",
   "execution_count": 5,
   "metadata": {},
   "outputs": [
    {
     "data": {
      "text/plain": [
       "63642"
      ]
     },
     "execution_count": 5,
     "metadata": {},
     "output_type": "execute_result"
    }
   ],
   "source": [
    "key = 'gitgud'\n",
    "cypher = bytearray(open(\"ch2.bmp\", \"rb\").read())\n",
    "for i in range(len(cypher)):\n",
    "    cypher[i] ^= ord(key[i%len(key)])\n",
    "open(\"flag.bmp\",\"wb\").write(cypher)"
   ]
  }
 ],
 "metadata": {
  "kernelspec": {
   "display_name": "Python 3.9.13 64-bit",
   "language": "python",
   "name": "python3"
  },
  "language_info": {
   "codemirror_mode": {
    "name": "ipython",
    "version": 3
   },
   "file_extension": ".py",
   "mimetype": "text/x-python",
   "name": "python",
   "nbconvert_exporter": "python",
   "pygments_lexer": "ipython3",
   "version": "3.10.6"
  },
  "orig_nbformat": 4,
  "vscode": {
   "interpreter": {
    "hash": "b0fa6594d8f4cbf19f97940f81e996739fb7646882a419484c72d19e05852a7e"
   }
  }
 },
 "nbformat": 4,
 "nbformat_minor": 2
}
