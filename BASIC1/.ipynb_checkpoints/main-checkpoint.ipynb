{
 "cells": [
  {
   "cell_type": "markdown",
   "metadata": {},
   "source": [
    "# Challenge 1\n",
    "\n",
    "- Step 1 : Decrypt ctearrpogorpe.ry.ghf \n"
   ]
  },
  {
   "cell_type": "code",
   "execution_count": 1,
   "metadata": {},
   "outputs": [
    {
     "name": "stdout",
     "output_type": "stream",
     "text": [
      "Text: ctearrpogorpe.ry.ghf\n",
      "Key: 3\n",
      "Cipher: crypto.geographer.fr\n"
     ]
    }
   ],
   "source": [
    "#rail fence cipher\n",
    "def rail_fence_decipher(text, key):\n",
    "    rail = [['\\n' for i in range(len(text))] for j in range(key)]\n",
    "    dir_down = None\n",
    "    row, col = 0, 0\n",
    "    for i in range(len(text)):\n",
    "        if row == 0:\n",
    "            dir_down = True\n",
    "        if row == key - 1:\n",
    "            dir_down = False\n",
    "        rail[row][col] = '*'\n",
    "        col += 1\n",
    "        if dir_down:\n",
    "            row += 1\n",
    "        else:\n",
    "            row -= 1\n",
    "    index = 0\n",
    "    for i in range(key):\n",
    "        for j in range(len(text)):\n",
    "            if ((rail[i][j] == '*') and\n",
    "                (index < len(text))):\n",
    "                rail[i][j] = text[index]\n",
    "                index += 1\n",
    "    result = []\n",
    "    row, col = 0, 0\n",
    "    for i in range(len(text)):\n",
    "        if row == 0:\n",
    "            dir_down = True\n",
    "        if row == key - 1:\n",
    "            dir_down = False\n",
    "        if (rail[row][col] != '*'):\n",
    "            result.append(rail[row][col])\n",
    "            col += 1\n",
    "        if dir_down:\n",
    "            row += 1\n",
    "        else:\n",
    "            row -= 1\n",
    "    return(\"\".join(result))\n",
    "\n",
    "def main():\n",
    "    text = \"ctearrpogorpe.ry.ghf\"\n",
    "    key = 3\n",
    "    print(\"Text: \" + text)\n",
    "    print(\"Key: \" + str(key))\n",
    "    print(\"Cipher: \" + rail_fence_decipher(text, key))\n",
    "\n",
    "if __name__ == \"__main__\":\n",
    "    main()"
   ]
  },
  {
   "cell_type": "markdown",
   "metadata": {},
   "source": [
    "The url is crypto.geographer.fr"
   ]
  },
  {
   "cell_type": "markdown",
   "metadata": {},
   "source": [
    "Now we need to decrypt the subject. It's a mono alphabetic subsitution.\n",
    "The key is XWVACFJMLDKGHJZBREISNTUOYP "
   ]
  },
  {
   "cell_type": "code",
   "execution_count": 7,
   "metadata": {},
   "outputs": [],
   "source": [
    "def monoalphabetic_substitution(cipher_text, key):\n",
    "    plain_text = \"\"\n",
    "    for letter in cipher_text:\n",
    "        if letter in key:\n",
    "            plain_text += key[letter]\n",
    "        else:\n",
    "            plain_text += letter\n",
    "    return plain_text\n",
    "\n",
    "def main():\n",
    "    cipher_file = open(\"file.txt\", \"r\")\n",
    "    key = {\n",
    "        'A': 'X',\n",
    "        'B': 'W',\n",
    "        'C': 'V',\n",
    "        'D': 'A',\n",
    "        'E': 'C',\n",
    "        'F': 'F',\n",
    "        'G': 'J',\n",
    "        'H': 'M',\n",
    "        'I': 'L',\n",
    "        'J': 'D',\n",
    "        'K': 'K',\n",
    "        'L': 'G',\n",
    "        'M': 'H',\n",
    "        'N': 'J',\n",
    "        'O': 'Z',\n",
    "        'P': 'B',\n",
    "        'Q': 'R',\n",
    "        'R': 'E',\n",
    "        'S': 'I',\n",
    "        'T': 'S',\n",
    "        'U': 'N',\n",
    "        'V': 'T',\n",
    "        'W': 'U',\n",
    "        'X': 'O',\n",
    "        'Y': 'Y',\n",
    "        'Z': 'P',\n",
    "        'a': 'x',\n",
    "        'b': 'w',\n",
    "        'c': 'v',\n",
    "        'd': 'a',\n",
    "        'e': 'c',\n",
    "        'f': 'f',\n",
    "        'g': 'j',\n",
    "        'h': 'm',\n",
    "        'i': 'l',\n",
    "        'j': 'd',\n",
    "        'k': 'k',\n",
    "        'l': 'g',\n",
    "        'm': 'h',\n",
    "        'n': 'j',\n",
    "        'o': 'x',\n",
    "        'p': 'b',\n",
    "        'q': 'r',\n",
    "        'r': 'e',\n",
    "        's': 'i',\n",
    "        't': 's',\n",
    "        'u': 'n',\n",
    "        'v': 't',\n",
    "        'w': 'u',\n",
    "        'x': 'o',\n",
    "        'y': 'y',\n",
    "        'z': 'p',\n",
    "    }\n",
    "    cipher_text = cipher_file.read()\n",
    "    WriteToFile(monoalphabetic_substitution(cipher_text, key))\n",
    "\n",
    "def WriteToFile(cipher_text):\n",
    "    file = open(\"decrypted.txt\", \"w\")\n",
    "    file.write(cipher_text)\n",
    "    file.close()\n",
    "\n",
    "\n",
    "\n",
    "if __name__ == \"__main__\":\n",
    "    main()"
   ]
  }
 ],
 "metadata": {
  "kernelspec": {
   "display_name": "Python 3 (ipykernel)",
   "language": "python",
   "name": "python3"
  },
  "language_info": {
   "codemirror_mode": {
    "name": "ipython",
    "version": 3
   },
   "file_extension": ".py",
   "mimetype": "text/x-python",
   "name": "python",
   "nbconvert_exporter": "python",
   "pygments_lexer": "ipython3",
   "version": "3.9.14"
  },
  "vscode": {
   "interpreter": {
    "hash": "b0fa6594d8f4cbf19f97940f81e996739fb7646882a419484c72d19e05852a7e"
   }
  }
 },
 "nbformat": 4,
 "nbformat_minor": 2
}
